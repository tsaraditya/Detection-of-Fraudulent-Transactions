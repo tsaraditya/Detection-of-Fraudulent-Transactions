{
 "cells": [
  {
   "cell_type": "code",
   "execution_count": null,
   "id": "b0b7481d",
   "metadata": {},
   "outputs": [],
   "source": [
    "import test_module as mod\n",
    "mod.user_interface()"
   ]
  },
  {
   "cell_type": "code",
   "execution_count": null,
   "id": "fe377908",
   "metadata": {},
   "outputs": [],
   "source": []
  }
 ],
 "metadata": {
  "kernelspec": {
   "display_name": "Python 3 (ipykernel)",
   "language": "python",
   "name": "python3"
  },
  "language_info": {
   "codemirror_mode": {
    "name": "ipython",
    "version": 3
   },
   "file_extension": ".py",
   "mimetype": "text/x-python",
   "name": "python",
   "nbconvert_exporter": "python",
   "pygments_lexer": "ipython3",
   "version": "3.9.13"
  }
 },
 "nbformat": 4,
 "nbformat_minor": 5
}
